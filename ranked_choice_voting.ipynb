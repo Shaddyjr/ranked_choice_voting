{
 "cells": [
  {
   "cell_type": "markdown",
   "metadata": {},
   "source": [
    "# I Can Code That! \n",
    "## Ranked Choice Voting Simulation\n",
    "- Glitched Failure Video - https://youtu.be/XASB6JjClBk\n",
    "- Great video on this! \"Simulating alternate voting systems\" - https://www.youtube.com/watch?v=yhO6jfHPFQU\n",
    "- But first, let's describe the most common voting system, Plurality Voting."
   ]
  },
  {
   "cell_type": "markdown",
   "metadata": {},
   "source": [
    "## How does Plurality Voting Work?\n",
    "- The candidate with the most votes wins\n",
    "- Voters select the one candidate they want more than the rest"
   ]
  },
  {
   "cell_type": "markdown",
   "metadata": {},
   "source": [
    "### What we'll need to simulate this:\n",
    "- Generate Candidates with multiple dimension/\"topic beliefs\"\n",
    "- Generate Voters with multiple dimension/\"topic beliefs\"\n",
    "- Determine a way to match each voter to the candidate that is most similiar to the voter\n",
    "- Simulate the Plurality Voting Algorithm"
   ]
  },
  {
   "cell_type": "markdown",
   "metadata": {},
   "source": [
    "### Generate person\n",
    "- Random name\n",
    "- Random dimension values"
   ]
  },
  {
   "cell_type": "code",
   "execution_count": 40,
   "metadata": {},
   "outputs": [],
   "source": [
    "import numpy as np\n",
    "np.random.seed(12345) # set seed for reproducibility"
   ]
  },
  {
   "cell_type": "markdown",
   "metadata": {},
   "source": [
    "We can use the `numpy` package to quickly generate a tables of random numbers (between 0-1)  \n",
    "\n",
    "Each row will represent as an individual person, and each column represents a dimension (or topic of interest)"
   ]
  },
  {
   "cell_type": "code",
   "execution_count": 41,
   "metadata": {},
   "outputs": [
    {
     "data": {
      "text/plain": [
       "array([[0.92961609, 0.31637555, 0.18391881],\n",
       "       [0.20456028, 0.56772503, 0.5955447 ]])"
      ]
     },
     "execution_count": 41,
     "metadata": {},
     "output_type": "execute_result"
    }
   ],
   "source": [
    "np.random.random([2,3])"
   ]
  },
  {
   "cell_type": "markdown",
   "metadata": {},
   "source": [
    "I'll use the `pandas` library for easy table storage and data manipulation."
   ]
  },
  {
   "cell_type": "code",
   "execution_count": 42,
   "metadata": {},
   "outputs": [],
   "source": [
    "import pandas as pd"
   ]
  },
  {
   "cell_type": "markdown",
   "metadata": {},
   "source": [
    "Let's generate 5 random people with 3 dimensions/topics, and put them in a table"
   ]
  },
  {
   "cell_type": "code",
   "execution_count": 43,
   "metadata": {},
   "outputs": [
    {
     "data": {
      "text/plain": [
       "array([[0.96451452, 0.6531771 , 0.74890664],\n",
       "       [0.65356987, 0.74771481, 0.96130674],\n",
       "       [0.0083883 , 0.10644438, 0.29870371],\n",
       "       [0.65641118, 0.80981255, 0.87217591],\n",
       "       [0.9646476 , 0.72368535, 0.64247533]])"
      ]
     },
     "execution_count": 43,
     "metadata": {},
     "output_type": "execute_result"
    }
   ],
   "source": [
    "five_people = np.random.random([5,3])\n",
    "five_people"
   ]
  },
  {
   "cell_type": "code",
   "execution_count": 44,
   "metadata": {},
   "outputs": [
    {
     "data": {
      "text/html": [
       "<div>\n",
       "<style scoped>\n",
       "    .dataframe tbody tr th:only-of-type {\n",
       "        vertical-align: middle;\n",
       "    }\n",
       "\n",
       "    .dataframe tbody tr th {\n",
       "        vertical-align: top;\n",
       "    }\n",
       "\n",
       "    .dataframe thead th {\n",
       "        text-align: right;\n",
       "    }\n",
       "</style>\n",
       "<table border=\"1\" class=\"dataframe\">\n",
       "  <thead>\n",
       "    <tr style=\"text-align: right;\">\n",
       "      <th></th>\n",
       "      <th>0</th>\n",
       "      <th>1</th>\n",
       "      <th>2</th>\n",
       "    </tr>\n",
       "  </thead>\n",
       "  <tbody>\n",
       "    <tr>\n",
       "      <th>0</th>\n",
       "      <td>0.964515</td>\n",
       "      <td>0.653177</td>\n",
       "      <td>0.748907</td>\n",
       "    </tr>\n",
       "    <tr>\n",
       "      <th>1</th>\n",
       "      <td>0.653570</td>\n",
       "      <td>0.747715</td>\n",
       "      <td>0.961307</td>\n",
       "    </tr>\n",
       "    <tr>\n",
       "      <th>2</th>\n",
       "      <td>0.008388</td>\n",
       "      <td>0.106444</td>\n",
       "      <td>0.298704</td>\n",
       "    </tr>\n",
       "    <tr>\n",
       "      <th>3</th>\n",
       "      <td>0.656411</td>\n",
       "      <td>0.809813</td>\n",
       "      <td>0.872176</td>\n",
       "    </tr>\n",
       "    <tr>\n",
       "      <th>4</th>\n",
       "      <td>0.964648</td>\n",
       "      <td>0.723685</td>\n",
       "      <td>0.642475</td>\n",
       "    </tr>\n",
       "  </tbody>\n",
       "</table>\n",
       "</div>"
      ],
      "text/plain": [
       "          0         1         2\n",
       "0  0.964515  0.653177  0.748907\n",
       "1  0.653570  0.747715  0.961307\n",
       "2  0.008388  0.106444  0.298704\n",
       "3  0.656411  0.809813  0.872176\n",
       "4  0.964648  0.723685  0.642475"
      ]
     },
     "execution_count": 44,
     "metadata": {},
     "output_type": "execute_result"
    }
   ],
   "source": [
    "people = pd.DataFrame(five_people)\n",
    "people"
   ]
  },
  {
   "cell_type": "markdown",
   "metadata": {},
   "source": [
    "This doesn't look like much of a person, but let's try giving them names.\n",
    "\n",
    "First, let's define a simple function to generate a random name"
   ]
  },
  {
   "cell_type": "code",
   "execution_count": 45,
   "metadata": {},
   "outputs": [],
   "source": [
    "CONSONANTS = list('bcdfghjklmnpqrstvwxyz')\n",
    "VOWELS = list('aeiou')\n",
    "def random_name(i = 0):\n",
    "    if i > 3: # base case\n",
    "        return ''\n",
    "    consonant = np.random.choice(CONSONANTS)\n",
    "    vowel = np.random.choice(VOWELS)\n",
    "    if np.random.random() < .35:\n",
    "        return consonant + vowel\n",
    "    return consonant + vowel + random_name(i + 1)"
   ]
  },
  {
   "cell_type": "code",
   "execution_count": 46,
   "metadata": {},
   "outputs": [
    {
     "data": {
      "text/plain": [
       "'bohowoya'"
      ]
     },
     "execution_count": 46,
     "metadata": {},
     "output_type": "execute_result"
    }
   ],
   "source": [
    "random_name()"
   ]
  },
  {
   "cell_type": "markdown",
   "metadata": {},
   "source": [
    "Now, let's give a name to each person in our table"
   ]
  },
  {
   "cell_type": "code",
   "execution_count": 47,
   "metadata": {},
   "outputs": [
    {
     "data": {
      "text/html": [
       "<div>\n",
       "<style scoped>\n",
       "    .dataframe tbody tr th:only-of-type {\n",
       "        vertical-align: middle;\n",
       "    }\n",
       "\n",
       "    .dataframe tbody tr th {\n",
       "        vertical-align: top;\n",
       "    }\n",
       "\n",
       "    .dataframe thead th {\n",
       "        text-align: right;\n",
       "    }\n",
       "</style>\n",
       "<table border=\"1\" class=\"dataframe\">\n",
       "  <thead>\n",
       "    <tr style=\"text-align: right;\">\n",
       "      <th></th>\n",
       "      <th>0</th>\n",
       "      <th>1</th>\n",
       "      <th>2</th>\n",
       "    </tr>\n",
       "  </thead>\n",
       "  <tbody>\n",
       "    <tr>\n",
       "      <th>0</th>\n",
       "      <td>0.964515</td>\n",
       "      <td>0.653177</td>\n",
       "      <td>0.748907</td>\n",
       "    </tr>\n",
       "    <tr>\n",
       "      <th>1</th>\n",
       "      <td>0.653570</td>\n",
       "      <td>0.747715</td>\n",
       "      <td>0.961307</td>\n",
       "    </tr>\n",
       "    <tr>\n",
       "      <th>2</th>\n",
       "      <td>0.008388</td>\n",
       "      <td>0.106444</td>\n",
       "      <td>0.298704</td>\n",
       "    </tr>\n",
       "    <tr>\n",
       "      <th>3</th>\n",
       "      <td>0.656411</td>\n",
       "      <td>0.809813</td>\n",
       "      <td>0.872176</td>\n",
       "    </tr>\n",
       "    <tr>\n",
       "      <th>4</th>\n",
       "      <td>0.964648</td>\n",
       "      <td>0.723685</td>\n",
       "      <td>0.642475</td>\n",
       "    </tr>\n",
       "  </tbody>\n",
       "</table>\n",
       "</div>"
      ],
      "text/plain": [
       "          0         1         2\n",
       "0  0.964515  0.653177  0.748907\n",
       "1  0.653570  0.747715  0.961307\n",
       "2  0.008388  0.106444  0.298704\n",
       "3  0.656411  0.809813  0.872176\n",
       "4  0.964648  0.723685  0.642475"
      ]
     },
     "execution_count": 47,
     "metadata": {},
     "output_type": "execute_result"
    }
   ],
   "source": [
    "people"
   ]
  },
  {
   "cell_type": "code",
   "execution_count": 48,
   "metadata": {},
   "outputs": [
    {
     "data": {
      "text/html": [
       "<div>\n",
       "<style scoped>\n",
       "    .dataframe tbody tr th:only-of-type {\n",
       "        vertical-align: middle;\n",
       "    }\n",
       "\n",
       "    .dataframe tbody tr th {\n",
       "        vertical-align: top;\n",
       "    }\n",
       "\n",
       "    .dataframe thead th {\n",
       "        text-align: right;\n",
       "    }\n",
       "</style>\n",
       "<table border=\"1\" class=\"dataframe\">\n",
       "  <thead>\n",
       "    <tr style=\"text-align: right;\">\n",
       "      <th></th>\n",
       "      <th>0</th>\n",
       "      <th>1</th>\n",
       "      <th>2</th>\n",
       "    </tr>\n",
       "  </thead>\n",
       "  <tbody>\n",
       "    <tr>\n",
       "      <th>qosojahi</th>\n",
       "      <td>0.964515</td>\n",
       "      <td>0.653177</td>\n",
       "      <td>0.748907</td>\n",
       "    </tr>\n",
       "    <tr>\n",
       "      <th>qa</th>\n",
       "      <td>0.653570</td>\n",
       "      <td>0.747715</td>\n",
       "      <td>0.961307</td>\n",
       "    </tr>\n",
       "    <tr>\n",
       "      <th>xisikebi</th>\n",
       "      <td>0.008388</td>\n",
       "      <td>0.106444</td>\n",
       "      <td>0.298704</td>\n",
       "    </tr>\n",
       "    <tr>\n",
       "      <th>si</th>\n",
       "      <td>0.656411</td>\n",
       "      <td>0.809813</td>\n",
       "      <td>0.872176</td>\n",
       "    </tr>\n",
       "    <tr>\n",
       "      <th>faji</th>\n",
       "      <td>0.964648</td>\n",
       "      <td>0.723685</td>\n",
       "      <td>0.642475</td>\n",
       "    </tr>\n",
       "  </tbody>\n",
       "</table>\n",
       "</div>"
      ],
      "text/plain": [
       "                 0         1         2\n",
       "qosojahi  0.964515  0.653177  0.748907\n",
       "qa        0.653570  0.747715  0.961307\n",
       "xisikebi  0.008388  0.106444  0.298704\n",
       "si        0.656411  0.809813  0.872176\n",
       "faji      0.964648  0.723685  0.642475"
      ]
     },
     "execution_count": 48,
     "metadata": {},
     "output_type": "execute_result"
    }
   ],
   "source": [
    "people.index = [random_name() for _ in range(people.shape[0])]\n",
    "people"
   ]
  },
  {
   "cell_type": "markdown",
   "metadata": {},
   "source": [
    "Now, what about the dimensions? The columns are just going to represent how aligned each person is to a topic.\n",
    "\n",
    "For example:\n",
    "- The first column could be how much the person loves cats (as a percentage %)\n",
    "- The second column could be if the person wants lower taxes (0 or 'no' and 1 for 'yes')\n",
    "- The third column could be the person's income\n",
    "\n",
    "Let's rename the columns accordingly."
   ]
  },
  {
   "cell_type": "code",
   "execution_count": 49,
   "metadata": {},
   "outputs": [
    {
     "data": {
      "text/html": [
       "<div>\n",
       "<style scoped>\n",
       "    .dataframe tbody tr th:only-of-type {\n",
       "        vertical-align: middle;\n",
       "    }\n",
       "\n",
       "    .dataframe tbody tr th {\n",
       "        vertical-align: top;\n",
       "    }\n",
       "\n",
       "    .dataframe thead th {\n",
       "        text-align: right;\n",
       "    }\n",
       "</style>\n",
       "<table border=\"1\" class=\"dataframe\">\n",
       "  <thead>\n",
       "    <tr style=\"text-align: right;\">\n",
       "      <th></th>\n",
       "      <th>love_of_cats_%</th>\n",
       "      <th>lower_taxes</th>\n",
       "      <th>income</th>\n",
       "    </tr>\n",
       "  </thead>\n",
       "  <tbody>\n",
       "    <tr>\n",
       "      <th>qosojahi</th>\n",
       "      <td>0.964515</td>\n",
       "      <td>0.653177</td>\n",
       "      <td>0.748907</td>\n",
       "    </tr>\n",
       "    <tr>\n",
       "      <th>qa</th>\n",
       "      <td>0.653570</td>\n",
       "      <td>0.747715</td>\n",
       "      <td>0.961307</td>\n",
       "    </tr>\n",
       "    <tr>\n",
       "      <th>xisikebi</th>\n",
       "      <td>0.008388</td>\n",
       "      <td>0.106444</td>\n",
       "      <td>0.298704</td>\n",
       "    </tr>\n",
       "    <tr>\n",
       "      <th>si</th>\n",
       "      <td>0.656411</td>\n",
       "      <td>0.809813</td>\n",
       "      <td>0.872176</td>\n",
       "    </tr>\n",
       "    <tr>\n",
       "      <th>faji</th>\n",
       "      <td>0.964648</td>\n",
       "      <td>0.723685</td>\n",
       "      <td>0.642475</td>\n",
       "    </tr>\n",
       "  </tbody>\n",
       "</table>\n",
       "</div>"
      ],
      "text/plain": [
       "          love_of_cats_%  lower_taxes    income\n",
       "qosojahi        0.964515     0.653177  0.748907\n",
       "qa              0.653570     0.747715  0.961307\n",
       "xisikebi        0.008388     0.106444  0.298704\n",
       "si              0.656411     0.809813  0.872176\n",
       "faji            0.964648     0.723685  0.642475"
      ]
     },
     "execution_count": 49,
     "metadata": {},
     "output_type": "execute_result"
    }
   ],
   "source": [
    "column_names = [\"love_of_cats_%\",\"lower_taxes\", \"income\"]\n",
    "people.columns = column_names\n",
    "people"
   ]
  },
  {
   "cell_type": "markdown",
   "metadata": {},
   "source": [
    "The `lower_taxes` column is a binary dimension and should be a 0 or 1. Let's quickly convert it by converting all values below `.5` to `0` and the rest to `1`."
   ]
  },
  {
   "cell_type": "code",
   "execution_count": 50,
   "metadata": {},
   "outputs": [
    {
     "data": {
      "text/plain": [
       "qosojahi    1\n",
       "qa          1\n",
       "xisikebi    0\n",
       "si          1\n",
       "faji        1\n",
       "Name: lower_taxes, dtype: int64"
      ]
     },
     "execution_count": 50,
     "metadata": {},
     "output_type": "execute_result"
    }
   ],
   "source": [
    "people['lower_taxes'].map(lambda val: 0 if val < .5 else 1)"
   ]
  },
  {
   "cell_type": "code",
   "execution_count": 51,
   "metadata": {},
   "outputs": [
    {
     "data": {
      "text/html": [
       "<div>\n",
       "<style scoped>\n",
       "    .dataframe tbody tr th:only-of-type {\n",
       "        vertical-align: middle;\n",
       "    }\n",
       "\n",
       "    .dataframe tbody tr th {\n",
       "        vertical-align: top;\n",
       "    }\n",
       "\n",
       "    .dataframe thead th {\n",
       "        text-align: right;\n",
       "    }\n",
       "</style>\n",
       "<table border=\"1\" class=\"dataframe\">\n",
       "  <thead>\n",
       "    <tr style=\"text-align: right;\">\n",
       "      <th></th>\n",
       "      <th>love_of_cats_%</th>\n",
       "      <th>lower_taxes</th>\n",
       "      <th>income</th>\n",
       "    </tr>\n",
       "  </thead>\n",
       "  <tbody>\n",
       "    <tr>\n",
       "      <th>qosojahi</th>\n",
       "      <td>0.964515</td>\n",
       "      <td>1</td>\n",
       "      <td>0.748907</td>\n",
       "    </tr>\n",
       "    <tr>\n",
       "      <th>qa</th>\n",
       "      <td>0.653570</td>\n",
       "      <td>1</td>\n",
       "      <td>0.961307</td>\n",
       "    </tr>\n",
       "    <tr>\n",
       "      <th>xisikebi</th>\n",
       "      <td>0.008388</td>\n",
       "      <td>0</td>\n",
       "      <td>0.298704</td>\n",
       "    </tr>\n",
       "    <tr>\n",
       "      <th>si</th>\n",
       "      <td>0.656411</td>\n",
       "      <td>1</td>\n",
       "      <td>0.872176</td>\n",
       "    </tr>\n",
       "    <tr>\n",
       "      <th>faji</th>\n",
       "      <td>0.964648</td>\n",
       "      <td>1</td>\n",
       "      <td>0.642475</td>\n",
       "    </tr>\n",
       "  </tbody>\n",
       "</table>\n",
       "</div>"
      ],
      "text/plain": [
       "          love_of_cats_%  lower_taxes    income\n",
       "qosojahi        0.964515            1  0.748907\n",
       "qa              0.653570            1  0.961307\n",
       "xisikebi        0.008388            0  0.298704\n",
       "si              0.656411            1  0.872176\n",
       "faji            0.964648            1  0.642475"
      ]
     },
     "execution_count": 51,
     "metadata": {},
     "output_type": "execute_result"
    }
   ],
   "source": [
    "new_lower_taxes = people['lower_taxes'].map(lambda val: 0 if val < .5 else 1)\n",
    "people['lower_taxes'] = new_lower_taxes\n",
    "people"
   ]
  },
  {
   "cell_type": "markdown",
   "metadata": {},
   "source": [
    "The `income` column looks odd, so let's adjust the numbers to look more like $\n",
    "\n",
    "_NOTE: the original distribution of random numbers follows a Normal Distribution, however, income tends to be much more skewed, so I'll be using a skewed Gamma Distribution_"
   ]
  },
  {
   "cell_type": "code",
   "execution_count": 52,
   "metadata": {},
   "outputs": [],
   "source": [
    "import seaborn as sns\n",
    "import matplotlib.pyplot as plt"
   ]
  },
  {
   "cell_type": "code",
   "execution_count": 53,
   "metadata": {},
   "outputs": [
    {
     "data": {
      "image/png": "[encoded data removed]",
      "text/plain": [
       "<Figure size 432x288 with 1 Axes>"
      ]
     },
     "metadata": {
      "needs_background": "light"
     },
     "output_type": "display_data"
    }
   ],
   "source": [
    "# visualizing my \"Income\" Gamma Distribution\n",
    "income_vals = [int(val * 25_000) for val in np.random.gamma(3,1, size = 1_000)]\n",
    "\n",
    "plt.title(\"'Income' Gamma Distribution\")\n",
    "plt.xlabel(\"Income\")\n",
    "plt.ylabel(\"Frequency\")\n",
    "sns.histplot(income_vals, stat = 'probability');"
   ]
  },
  {
   "cell_type": "code",
   "execution_count": 54,
   "metadata": {},
   "outputs": [
    {
     "data": {
      "text/html": [
       "<div>\n",
       "<style scoped>\n",
       "    .dataframe tbody tr th:only-of-type {\n",
       "        vertical-align: middle;\n",
       "    }\n",
       "\n",
       "    .dataframe tbody tr th {\n",
       "        vertical-align: top;\n",
       "    }\n",
       "\n",
       "    .dataframe thead th {\n",
       "        text-align: right;\n",
       "    }\n",
       "</style>\n",
       "<table border=\"1\" class=\"dataframe\">\n",
       "  <thead>\n",
       "    <tr style=\"text-align: right;\">\n",
       "      <th></th>\n",
       "      <th>love_of_cats_%</th>\n",
       "      <th>lower_taxes</th>\n",
       "      <th>income</th>\n",
       "    </tr>\n",
       "  </thead>\n",
       "  <tbody>\n",
       "    <tr>\n",
       "      <th>qosojahi</th>\n",
       "      <td>0.964515</td>\n",
       "      <td>1</td>\n",
       "      <td>92725</td>\n",
       "    </tr>\n",
       "    <tr>\n",
       "      <th>qa</th>\n",
       "      <td>0.653570</td>\n",
       "      <td>1</td>\n",
       "      <td>145762</td>\n",
       "    </tr>\n",
       "    <tr>\n",
       "      <th>xisikebi</th>\n",
       "      <td>0.008388</td>\n",
       "      <td>0</td>\n",
       "      <td>110589</td>\n",
       "    </tr>\n",
       "    <tr>\n",
       "      <th>si</th>\n",
       "      <td>0.656411</td>\n",
       "      <td>1</td>\n",
       "      <td>62004</td>\n",
       "    </tr>\n",
       "    <tr>\n",
       "      <th>faji</th>\n",
       "      <td>0.964648</td>\n",
       "      <td>1</td>\n",
       "      <td>87388</td>\n",
       "    </tr>\n",
       "  </tbody>\n",
       "</table>\n",
       "</div>"
      ],
      "text/plain": [
       "          love_of_cats_%  lower_taxes  income\n",
       "qosojahi        0.964515            1   92725\n",
       "qa              0.653570            1  145762\n",
       "xisikebi        0.008388            0  110589\n",
       "si              0.656411            1   62004\n",
       "faji            0.964648            1   87388"
      ]
     },
     "execution_count": 54,
     "metadata": {},
     "output_type": "execute_result"
    }
   ],
   "source": [
    "new_income = [int(val * 25_000) for val in np.random.gamma(3,1, size = people.shape[0])]\n",
    "people['income'] = new_income\n",
    "people"
   ]
  },
  {
   "cell_type": "markdown",
   "metadata": {},
   "source": [
    "### Putting it all together\n",
    "Let's create a helper function that does all of these conversions at once called `create_people`.\n",
    "\n",
    "- The `create_people` function will take a single integer argument for how many people to create.\n",
    "- It will return a pandas table with all of the rows and columns formatted the way we just did."
   ]
  },
  {
   "cell_type": "code",
   "execution_count": 55,
   "metadata": {},
   "outputs": [],
   "source": [
    "def create_people(n):\n",
    "    COLUMN_NAMES = [\"love_of_cats_%\", \"lower_taxes\", \"income\"]\n",
    "    # creating table with random values\n",
    "    people_table = pd.DataFrame(np.random.random([n,3]))\n",
    "    \n",
    "    # adding random names\n",
    "    people_table.index = [random_name() for _ in range(people_table.shape[0])]\n",
    "    \n",
    "    # formatting columns\n",
    "    people_table.columns = COLUMN_NAMES\n",
    "    people_table['lower_taxes'] = people_table['lower_taxes'].map(lambda val: 0 if val < .5 else 1)\n",
    "    people_table['income'] = \\\n",
    "        [int(val * 25_000) for val in np.random.gamma(3,1, size = people_table.shape[0])]\n",
    "    \n",
    "    return people_table"
   ]
  },
  {
   "cell_type": "code",
   "execution_count": 56,
   "metadata": {},
   "outputs": [
    {
     "data": {
      "text/html": [
       "<div>\n",
       "<style scoped>\n",
       "    .dataframe tbody tr th:only-of-type {\n",
       "        vertical-align: middle;\n",
       "    }\n",
       "\n",
       "    .dataframe tbody tr th {\n",
       "        vertical-align: top;\n",
       "    }\n",
       "\n",
       "    .dataframe thead th {\n",
       "        text-align: right;\n",
       "    }\n",
       "</style>\n",
       "<table border=\"1\" class=\"dataframe\">\n",
       "  <thead>\n",
       "    <tr style=\"text-align: right;\">\n",
       "      <th></th>\n",
       "      <th>love_of_cats_%</th>\n",
       "      <th>lower_taxes</th>\n",
       "      <th>income</th>\n",
       "    </tr>\n",
       "  </thead>\n",
       "  <tbody>\n",
       "    <tr>\n",
       "      <th>kuma</th>\n",
       "      <td>0.673205</td>\n",
       "      <td>1</td>\n",
       "      <td>29395</td>\n",
       "    </tr>\n",
       "    <tr>\n",
       "      <th>joca</th>\n",
       "      <td>0.115123</td>\n",
       "      <td>1</td>\n",
       "      <td>29048</td>\n",
       "    </tr>\n",
       "    <tr>\n",
       "      <th>yo</th>\n",
       "      <td>0.457139</td>\n",
       "      <td>0</td>\n",
       "      <td>40829</td>\n",
       "    </tr>\n",
       "    <tr>\n",
       "      <th>dabu</th>\n",
       "      <td>0.124405</td>\n",
       "      <td>1</td>\n",
       "      <td>83268</td>\n",
       "    </tr>\n",
       "    <tr>\n",
       "      <th>puze</th>\n",
       "      <td>0.998133</td>\n",
       "      <td>0</td>\n",
       "      <td>121054</td>\n",
       "    </tr>\n",
       "    <tr>\n",
       "      <th>deyi</th>\n",
       "      <td>0.684923</td>\n",
       "      <td>1</td>\n",
       "      <td>100554</td>\n",
       "    </tr>\n",
       "    <tr>\n",
       "      <th>miheyosi</th>\n",
       "      <td>0.671964</td>\n",
       "      <td>1</td>\n",
       "      <td>58442</td>\n",
       "    </tr>\n",
       "    <tr>\n",
       "      <th>fatarumi</th>\n",
       "      <td>0.943534</td>\n",
       "      <td>0</td>\n",
       "      <td>38743</td>\n",
       "    </tr>\n",
       "    <tr>\n",
       "      <th>ka</th>\n",
       "      <td>0.775577</td>\n",
       "      <td>1</td>\n",
       "      <td>41084</td>\n",
       "    </tr>\n",
       "    <tr>\n",
       "      <th>sada</th>\n",
       "      <td>0.324925</td>\n",
       "      <td>0</td>\n",
       "      <td>39199</td>\n",
       "    </tr>\n",
       "  </tbody>\n",
       "</table>\n",
       "</div>"
      ],
      "text/plain": [
       "          love_of_cats_%  lower_taxes  income\n",
       "kuma            0.673205            1   29395\n",
       "joca            0.115123            1   29048\n",
       "yo              0.457139            0   40829\n",
       "dabu            0.124405            1   83268\n",
       "puze            0.998133            0  121054\n",
       "deyi            0.684923            1  100554\n",
       "miheyosi        0.671964            1   58442\n",
       "fatarumi        0.943534            0   38743\n",
       "ka              0.775577            1   41084\n",
       "sada            0.324925            0   39199"
      ]
     },
     "execution_count": 56,
     "metadata": {},
     "output_type": "execute_result"
    }
   ],
   "source": [
    "create_people(10)"
   ]
  },
  {
   "cell_type": "markdown",
   "metadata": {},
   "source": [
    "Now, let's create 5 candidates and 100 voters using the `create_people` function"
   ]
  },
  {
   "cell_type": "code",
   "execution_count": 57,
   "metadata": {},
   "outputs": [],
   "source": [
    "candidates = create_people(5)\n",
    "voters = create_people(100)"
   ]
  },
  {
   "cell_type": "code",
   "execution_count": 58,
   "metadata": {},
   "outputs": [
    {
     "data": {
      "text/html": [
       "<div>\n",
       "<style scoped>\n",
       "    .dataframe tbody tr th:only-of-type {\n",
       "        vertical-align: middle;\n",
       "    }\n",
       "\n",
       "    .dataframe tbody tr th {\n",
       "        vertical-align: top;\n",
       "    }\n",
       "\n",
       "    .dataframe thead th {\n",
       "        text-align: right;\n",
       "    }\n",
       "</style>\n",
       "<table border=\"1\" class=\"dataframe\">\n",
       "  <thead>\n",
       "    <tr style=\"text-align: right;\">\n",
       "      <th></th>\n",
       "      <th>love_of_cats_%</th>\n",
       "      <th>lower_taxes</th>\n",
       "      <th>income</th>\n",
       "    </tr>\n",
       "  </thead>\n",
       "  <tbody>\n",
       "    <tr>\n",
       "      <th>haxuju</th>\n",
       "      <td>0.619774</td>\n",
       "      <td>0</td>\n",
       "      <td>137765</td>\n",
       "    </tr>\n",
       "    <tr>\n",
       "      <th>simugole</th>\n",
       "      <td>0.055576</td>\n",
       "      <td>1</td>\n",
       "      <td>57183</td>\n",
       "    </tr>\n",
       "    <tr>\n",
       "      <th>hu</th>\n",
       "      <td>0.907827</td>\n",
       "      <td>0</td>\n",
       "      <td>91733</td>\n",
       "    </tr>\n",
       "    <tr>\n",
       "      <th>walohido</th>\n",
       "      <td>0.226756</td>\n",
       "      <td>0</td>\n",
       "      <td>113542</td>\n",
       "    </tr>\n",
       "    <tr>\n",
       "      <th>va</th>\n",
       "      <td>0.499962</td>\n",
       "      <td>1</td>\n",
       "      <td>144378</td>\n",
       "    </tr>\n",
       "  </tbody>\n",
       "</table>\n",
       "</div>"
      ],
      "text/plain": [
       "          love_of_cats_%  lower_taxes  income\n",
       "haxuju          0.619774            0  137765\n",
       "simugole        0.055576            1   57183\n",
       "hu              0.907827            0   91733\n",
       "walohido        0.226756            0  113542\n",
       "va              0.499962            1  144378"
      ]
     },
     "execution_count": 58,
     "metadata": {},
     "output_type": "execute_result"
    }
   ],
   "source": [
    "candidates"
   ]
  },
  {
   "cell_type": "code",
   "execution_count": 59,
   "metadata": {},
   "outputs": [
    {
     "data": {
      "text/html": [
       "<div>\n",
       "<style scoped>\n",
       "    .dataframe tbody tr th:only-of-type {\n",
       "        vertical-align: middle;\n",
       "    }\n",
       "\n",
       "    .dataframe tbody tr th {\n",
       "        vertical-align: top;\n",
       "    }\n",
       "\n",
       "    .dataframe thead th {\n",
       "        text-align: right;\n",
       "    }\n",
       "</style>\n",
       "<table border=\"1\" class=\"dataframe\">\n",
       "  <thead>\n",
       "    <tr style=\"text-align: right;\">\n",
       "      <th></th>\n",
       "      <th>love_of_cats_%</th>\n",
       "      <th>lower_taxes</th>\n",
       "      <th>income</th>\n",
       "    </tr>\n",
       "  </thead>\n",
       "  <tbody>\n",
       "    <tr>\n",
       "      <th>qemalimo</th>\n",
       "      <td>0.325836</td>\n",
       "      <td>1</td>\n",
       "      <td>24321</td>\n",
       "    </tr>\n",
       "    <tr>\n",
       "      <th>dulo</th>\n",
       "      <td>0.180919</td>\n",
       "      <td>1</td>\n",
       "      <td>77679</td>\n",
       "    </tr>\n",
       "    <tr>\n",
       "      <th>rozelene</th>\n",
       "      <td>0.955937</td>\n",
       "      <td>0</td>\n",
       "      <td>52842</td>\n",
       "    </tr>\n",
       "    <tr>\n",
       "      <th>coximo</th>\n",
       "      <td>0.607083</td>\n",
       "      <td>1</td>\n",
       "      <td>55803</td>\n",
       "    </tr>\n",
       "    <tr>\n",
       "      <th>zikiti</th>\n",
       "      <td>0.971877</td>\n",
       "      <td>0</td>\n",
       "      <td>57286</td>\n",
       "    </tr>\n",
       "  </tbody>\n",
       "</table>\n",
       "</div>"
      ],
      "text/plain": [
       "          love_of_cats_%  lower_taxes  income\n",
       "qemalimo        0.325836            1   24321\n",
       "dulo            0.180919            1   77679\n",
       "rozelene        0.955937            0   52842\n",
       "coximo          0.607083            1   55803\n",
       "zikiti          0.971877            0   57286"
      ]
     },
     "execution_count": 59,
     "metadata": {},
     "output_type": "execute_result"
    }
   ],
   "source": [
    "voters.head()"
   ]
  },
  {
   "cell_type": "markdown",
   "metadata": {},
   "source": [
    "### How can we determine how similar one person is to another?\n",
    "We'll need to match each voter with the candidate that is __most closely__ related to the voter. There are a number of strategies for this, but two basic methods are:\n",
    "1. Pairwise distances\n",
    "2. Cosine Similarity\n",
    "\n",
    "These two methods are related and I highly recommend digging deeper into how these work on your own. For now, I'll go with pairwise distances since `sklearn` has an out-of-the-box implementation that'll work just fine for our purposes."
   ]
  },
  {
   "cell_type": "code",
   "execution_count": 60,
   "metadata": {},
   "outputs": [],
   "source": [
    "from sklearn.metrics import pairwise_distances\n",
    "from sklearn.preprocessing import MinMaxScaler"
   ]
  },
  {
   "cell_type": "markdown",
   "metadata": {},
   "source": [
    "Our data must be all numbers (in order to do the needed math!). If we had categorical data, then there are strategies for handling this kind of data, but that is beyond the scope of this project.\n",
    "\n",
    "The data are all on completely different scales and in order to properly compare distances, we'll want to normalize the numbers (like turning a range of `100-9999` to between `0-1`). We can use the `MinMaxScalar` from `sklearn`."
   ]
  },
  {
   "cell_type": "code",
   "execution_count": 61,
   "metadata": {},
   "outputs": [],
   "source": [
    "scaler_obj = MinMaxScaler()\n",
    "\n",
    "# NOTE: we fit the scaling object here\n",
    "scaler_obj.fit(candidates)\n",
    "\n",
    "# NOTE: we transform the data here\n",
    "norm_candidates = scaler_obj.transform(candidates)"
   ]
  },
  {
   "cell_type": "code",
   "execution_count": 62,
   "metadata": {},
   "outputs": [
    {
     "data": {
      "text/html": [
       "<div>\n",
       "<style scoped>\n",
       "    .dataframe tbody tr th:only-of-type {\n",
       "        vertical-align: middle;\n",
       "    }\n",
       "\n",
       "    .dataframe tbody tr th {\n",
       "        vertical-align: top;\n",
       "    }\n",
       "\n",
       "    .dataframe thead th {\n",
       "        text-align: right;\n",
       "    }\n",
       "</style>\n",
       "<table border=\"1\" class=\"dataframe\">\n",
       "  <thead>\n",
       "    <tr style=\"text-align: right;\">\n",
       "      <th></th>\n",
       "      <th>love_of_cats_%</th>\n",
       "      <th>lower_taxes</th>\n",
       "      <th>income</th>\n",
       "    </tr>\n",
       "  </thead>\n",
       "  <tbody>\n",
       "    <tr>\n",
       "      <th>haxuju</th>\n",
       "      <td>0.619774</td>\n",
       "      <td>0</td>\n",
       "      <td>137765</td>\n",
       "    </tr>\n",
       "    <tr>\n",
       "      <th>simugole</th>\n",
       "      <td>0.055576</td>\n",
       "      <td>1</td>\n",
       "      <td>57183</td>\n",
       "    </tr>\n",
       "    <tr>\n",
       "      <th>hu</th>\n",
       "      <td>0.907827</td>\n",
       "      <td>0</td>\n",
       "      <td>91733</td>\n",
       "    </tr>\n",
       "    <tr>\n",
       "      <th>walohido</th>\n",
       "      <td>0.226756</td>\n",
       "      <td>0</td>\n",
       "      <td>113542</td>\n",
       "    </tr>\n",
       "    <tr>\n",
       "      <th>va</th>\n",
       "      <td>0.499962</td>\n",
       "      <td>1</td>\n",
       "      <td>144378</td>\n",
       "    </tr>\n",
       "  </tbody>\n",
       "</table>\n",
       "</div>"
      ],
      "text/plain": [
       "          love_of_cats_%  lower_taxes  income\n",
       "haxuju          0.619774            0  137765\n",
       "simugole        0.055576            1   57183\n",
       "hu              0.907827            0   91733\n",
       "walohido        0.226756            0  113542\n",
       "va              0.499962            1  144378"
      ]
     },
     "execution_count": 62,
     "metadata": {},
     "output_type": "execute_result"
    }
   ],
   "source": [
    "candidates"
   ]
  },
  {
   "cell_type": "code",
   "execution_count": 63,
   "metadata": {},
   "outputs": [
    {
     "data": {
      "text/plain": [
       "array([[0.66200916, 0.        , 0.9241585 ],\n",
       "       [0.        , 1.        , 0.        ],\n",
       "       [1.        , 0.        , 0.39623832],\n",
       "       [0.20085547, 0.        , 0.64635587],\n",
       "       [0.52142532, 1.        , 1.        ]])"
      ]
     },
     "execution_count": 63,
     "metadata": {},
     "output_type": "execute_result"
    }
   ],
   "source": [
    "norm_candidates"
   ]
  },
  {
   "cell_type": "markdown",
   "metadata": {},
   "source": [
    "Now, let's look at the pairwise distances of the candidates (relative to each other)"
   ]
  },
  {
   "cell_type": "code",
   "execution_count": 64,
   "metadata": {},
   "outputs": [
    {
     "data": {
      "text/plain": [
       "array([[0.        , 1.51404262, 0.62684729, 0.53836514, 1.01267752],\n",
       "       [1.51404262, 0.        , 1.46867451, 1.20752591, 1.12777851],\n",
       "       [0.62684729, 1.46867451, 0.        , 0.83737135, 1.26236361],\n",
       "       [0.53836514, 1.20752591, 0.83737135, 0.        , 1.10807455],\n",
       "       [1.01267752, 1.12777851, 1.26236361, 1.10807455, 0.        ]])"
      ]
     },
     "execution_count": 64,
     "metadata": {},
     "output_type": "execute_result"
    }
   ],
   "source": [
    "pairwise_distances(norm_candidates)"
   ]
  },
  {
   "cell_type": "markdown",
   "metadata": {},
   "source": [
    "What do these numbers mean? Let's put them into a table to better visualize."
   ]
  },
  {
   "cell_type": "code",
   "execution_count": 65,
   "metadata": {},
   "outputs": [
    {
     "data": {
      "text/html": [
       "<div>\n",
       "<style scoped>\n",
       "    .dataframe tbody tr th:only-of-type {\n",
       "        vertical-align: middle;\n",
       "    }\n",
       "\n",
       "    .dataframe tbody tr th {\n",
       "        vertical-align: top;\n",
       "    }\n",
       "\n",
       "    .dataframe thead th {\n",
       "        text-align: right;\n",
       "    }\n",
       "</style>\n",
       "<table border=\"1\" class=\"dataframe\">\n",
       "  <thead>\n",
       "    <tr style=\"text-align: right;\">\n",
       "      <th></th>\n",
       "      <th>haxuju</th>\n",
       "      <th>simugole</th>\n",
       "      <th>hu</th>\n",
       "      <th>walohido</th>\n",
       "      <th>va</th>\n",
       "    </tr>\n",
       "  </thead>\n",
       "  <tbody>\n",
       "    <tr>\n",
       "      <th>haxuju</th>\n",
       "      <td>0.000000</td>\n",
       "      <td>1.514043</td>\n",
       "      <td>0.626847</td>\n",
       "      <td>0.538365</td>\n",
       "      <td>1.012678</td>\n",
       "    </tr>\n",
       "    <tr>\n",
       "      <th>simugole</th>\n",
       "      <td>1.514043</td>\n",
       "      <td>0.000000</td>\n",
       "      <td>1.468675</td>\n",
       "      <td>1.207526</td>\n",
       "      <td>1.127779</td>\n",
       "    </tr>\n",
       "    <tr>\n",
       "      <th>hu</th>\n",
       "      <td>0.626847</td>\n",
       "      <td>1.468675</td>\n",
       "      <td>0.000000</td>\n",
       "      <td>0.837371</td>\n",
       "      <td>1.262364</td>\n",
       "    </tr>\n",
       "    <tr>\n",
       "      <th>walohido</th>\n",
       "      <td>0.538365</td>\n",
       "      <td>1.207526</td>\n",
       "      <td>0.837371</td>\n",
       "      <td>0.000000</td>\n",
       "      <td>1.108075</td>\n",
       "    </tr>\n",
       "    <tr>\n",
       "      <th>va</th>\n",
       "      <td>1.012678</td>\n",
       "      <td>1.127779</td>\n",
       "      <td>1.262364</td>\n",
       "      <td>1.108075</td>\n",
       "      <td>0.000000</td>\n",
       "    </tr>\n",
       "  </tbody>\n",
       "</table>\n",
       "</div>"
      ],
      "text/plain": [
       "            haxuju  simugole        hu  walohido        va\n",
       "haxuju    0.000000  1.514043  0.626847  0.538365  1.012678\n",
       "simugole  1.514043  0.000000  1.468675  1.207526  1.127779\n",
       "hu        0.626847  1.468675  0.000000  0.837371  1.262364\n",
       "walohido  0.538365  1.207526  0.837371  0.000000  1.108075\n",
       "va        1.012678  1.127779  1.262364  1.108075  0.000000"
      ]
     },
     "execution_count": 65,
     "metadata": {},
     "output_type": "execute_result"
    }
   ],
   "source": [
    "cand_df = pd.DataFrame(pairwise_distances(norm_candidates))\n",
    "cand_df.columns = candidates.index\n",
    "cand_df.index = candidates.index\n",
    "cand_df"
   ]
  },
  {
   "cell_type": "markdown",
   "metadata": {},
   "source": [
    "We're seeing how distant each candidate is to each other candidate.\n",
    "\n",
    "#### INTERPRETATION\n",
    "For example, the first person has `0` distance with themself...which makes sense! The closest possible distance is `0` meaning the values in each dimension is the same.\n"
   ]
  },
  {
   "cell_type": "markdown",
   "metadata": {},
   "source": [
    "Let's bring in the voters now and see how close the candidates are for each of them.\n",
    "\n",
    "__Remember: we'll need to normalize/scale our voter data using the same scaler object we \"fitted\" earlier.__"
   ]
  },
  {
   "cell_type": "code",
   "execution_count": 66,
   "metadata": {},
   "outputs": [],
   "source": [
    "# NOTE: we transform the data here using the same (fitted) scaler object from before \n",
    "norm_voters = scaler_obj.transform(voters)"
   ]
  },
  {
   "cell_type": "code",
   "execution_count": 67,
   "metadata": {},
   "outputs": [
    {
     "data": {
      "text/plain": [
       "array([[ 3.17112738e-01,  1.00000000e+00, -3.76879408e-01],\n",
       "       [ 1.47072912e-01,  1.00000000e+00,  2.35059350e-01],\n",
       "       [ 1.05644970e+00,  0.00000000e+00, -4.97849647e-02],\n",
       "       [ 6.47117467e-01,  1.00000000e+00, -1.58265956e-02],\n",
       "       [ 1.07515424e+00,  0.00000000e+00,  1.18126039e-03],\n",
       "       [ 6.82079019e-01,  0.00000000e+00, -1.23745628e-02],\n",
       "       [ 7.25582542e-01,  1.00000000e+00, -1.10820575e-01],\n",
       "       [-4.74944684e-02,  0.00000000e+00,  2.22340731e-01],\n",
       "       [ 1.01779187e+00,  0.00000000e+00,  1.20052755e-01],\n",
       "       [ 1.08763900e+00,  1.00000000e+00,  1.55651127e+00]])"
      ]
     },
     "execution_count": 67,
     "metadata": {},
     "output_type": "execute_result"
    }
   ],
   "source": [
    "norm_voters[:10]"
   ]
  },
  {
   "cell_type": "markdown",
   "metadata": {},
   "source": [
    "The `pairwise_distances` function can take two matrices/tables and calculates the distances as you might expect."
   ]
  },
  {
   "cell_type": "code",
   "execution_count": 68,
   "metadata": {},
   "outputs": [
    {
     "data": {
      "text/plain": [
       "array([[1.67679849, 0.49254297, 1.43667882, 1.4354533 , 1.39195565],\n",
       "       [1.31909703, 0.27727845, 1.324184  , 1.08261599, 0.85163016],\n",
       "       [1.05078504, 1.45552895, 0.44958129, 1.1030202 , 1.54541243],\n",
       "       [1.37251366, 0.64731097, 1.13768342, 1.27970129, 1.02357325],\n",
       "       [1.01122492, 1.4683181 , 0.40214206, 1.08657656, 1.51797714],\n",
       "       [0.93674808, 1.21053084, 0.51772409, 0.81578299, 1.43203068],\n",
       "       [1.44056352, 0.73399675, 1.15430224, 1.35965241, 1.12942575],\n",
       "       [0.99796973, 1.02551993, 1.06183098, 0.49139244, 1.38867695],\n",
       "       [0.87929937, 1.43189139, 0.27675804, 0.97179218, 1.42150867],\n",
       "       [1.25739047, 1.89886438, 1.53424702, 1.61702439, 0.79391607],\n",
       "       [1.56143409, 0.90979181, 1.20083783, 1.50550796, 1.30459146],\n",
       "       [1.32038644, 0.27915754, 1.33686808, 1.07849404, 0.84867202],\n",
       "       [1.10303422, 0.82644912, 1.04972587, 1.12754281, 0.56545906],\n",
       "       [0.16796022, 1.4957749 , 0.77137517, 0.46043146, 1.00014908],\n",
       "       [1.51385641, 1.05918332, 1.13784696, 1.53137603, 1.26025735],\n",
       "       [1.34121814, 0.93175818, 1.0538954 , 1.36420914, 1.0143187 ],\n",
       "       [1.29298856, 1.03788868, 1.09114806, 0.90008587, 1.65025126],\n",
       "       [1.20626756, 0.47305948, 1.27547357, 1.02434574, 0.65494508],\n",
       "       [1.167524  , 1.377649  , 0.61484473, 1.12319068, 1.62316362],\n",
       "       [0.92085094, 1.45519706, 0.31027972, 1.01760825, 1.45256195],\n",
       "       [1.48127179, 0.7205838 , 1.18652676, 1.38309592, 1.18161928],\n",
       "       [1.12911913, 1.28475166, 1.51456369, 1.17390872, 0.36899228],\n",
       "       [0.39975499, 1.28204601, 0.41814131, 0.41938193, 1.10852253],\n",
       "       [1.05008675, 1.00594006, 1.04053683, 0.57357254, 1.43723406],\n",
       "       [1.46957585, 1.09072593, 1.10462137, 1.51453658, 1.20629151],\n",
       "       [1.20269582, 1.32321688, 0.68667107, 1.10625168, 1.64266861],\n",
       "       [1.12122535, 0.88282811, 1.02628392, 1.17172332, 0.62335121],\n",
       "       [1.52134919, 1.02072792, 1.14888654, 1.52137389, 1.26600512],\n",
       "       [1.30440983, 0.4677609 , 1.44388424, 1.04408278, 0.77415958],\n",
       "       [0.75878322, 1.36832651, 0.20900011, 0.83465361, 1.33413863],\n",
       "       [1.30700222, 0.51338354, 1.15551054, 1.18030296, 0.90262759],\n",
       "       [1.07953689, 0.81226718, 1.07516406, 1.09352788, 0.49178138],\n",
       "       [1.11908569, 1.00021826, 1.05475093, 0.66362832, 1.49536352],\n",
       "       [1.27264816, 1.21500455, 0.8454772 , 1.0691158 , 1.67915125],\n",
       "       [1.53803481, 0.61974935, 1.26091759, 1.38714997, 1.24185351],\n",
       "       [1.27512584, 0.9974643 , 1.01958948, 1.34299541, 0.92207262],\n",
       "       [1.01695675, 0.99963983, 1.10681633, 1.10960195, 0.30116112],\n",
       "       [1.15578877, 0.55758277, 1.21441465, 1.0233436 , 0.57774758],\n",
       "       [1.12595913, 1.20299451, 0.69903024, 0.95378118, 1.56754438],\n",
       "       [1.25431914, 1.49776187, 0.65841431, 1.26384239, 1.70202763],\n",
       "       [0.75544364, 1.11853748, 0.96849902, 0.21982924, 1.21855128],\n",
       "       [1.37510211, 0.67315652, 1.13136351, 1.29087972, 1.03084233],\n",
       "       [1.59351467, 0.44590652, 1.36949096, 1.36893978, 1.2880773 ],\n",
       "       [1.82618017, 0.46357909, 1.64202706, 1.50435999, 1.54619891],\n",
       "       [1.27283052, 0.59540456, 1.11480575, 1.1822879 , 0.86074651],\n",
       "       [0.41900489, 1.32132969, 0.32036965, 0.51762639, 1.12910351],\n",
       "       [1.46771365, 0.44335721, 1.26503677, 1.28210374, 1.1279293 ],\n",
       "       [1.6463365 , 0.24175499, 1.51285279, 1.34079471, 1.31966832],\n",
       "       [1.81746378, 0.57196834, 1.56894676, 1.5424041 , 1.55716534],\n",
       "       [1.27761943, 1.02649169, 1.10091178, 0.86976735, 1.6335289 ],\n",
       "       [0.6064195 , 1.48366168, 0.03224475, 0.83772871, 1.25152976],\n",
       "       [1.72867665, 0.29725372, 1.6053943 , 1.39474902, 1.41361824],\n",
       "       [1.49502103, 0.83258942, 1.16752574, 1.43284392, 1.21252754],\n",
       "       [1.35690572, 1.20599871, 0.95032907, 1.11924161, 1.74134955],\n",
       "       [1.67241444, 0.61648929, 1.38607019, 1.47319712, 1.40317832],\n",
       "       [1.16468998, 1.00039034, 1.09822807, 0.70391898, 1.52823818],\n",
       "       [0.90462013, 1.18622431, 0.52237747, 0.7637901 , 1.40506245],\n",
       "       [1.46533527, 0.50162976, 1.24312581, 1.29846105, 1.13263469],\n",
       "       [0.42350539, 1.27449455, 0.79581948, 0.1222867 , 1.0611603 ],\n",
       "       [0.26873701, 1.45133176, 0.35886136, 0.59463585, 1.08181895],\n",
       "       [1.41924725, 0.35998252, 1.26443193, 1.22081536, 1.04880576],\n",
       "       [1.75820869, 1.1605535 , 1.32139046, 1.72605238, 1.56216771],\n",
       "       [1.42076643, 0.26259716, 1.3049605 , 1.19375987, 1.03555473],\n",
       "       [0.59274425, 1.13863997, 0.67094113, 0.24936965, 1.16534122],\n",
       "       [0.76038016, 1.09070372, 0.64847501, 0.46131604, 1.27677708],\n",
       "       [1.20710309, 1.37234008, 1.63145492, 1.23210738, 0.52110689],\n",
       "       [1.12762096, 0.76537803, 1.0593177 , 1.12310403, 0.61061229],\n",
       "       [1.37346633, 1.49088447, 0.795562  , 1.33489433, 1.79344364],\n",
       "       [1.25804452, 1.12378664, 0.91917612, 0.97724772, 1.65051208],\n",
       "       [0.70098768, 1.52882645, 0.09761473, 0.93483148, 1.3123327 ],\n",
       "       [1.481507  , 0.23110498, 1.35374007, 1.23313664, 1.11680759],\n",
       "       [1.52113546, 0.34798137, 1.34049059, 1.29231871, 1.18515105],\n",
       "       [0.22470819, 1.51640512, 0.4169751 , 0.64569163, 1.07060428],\n",
       "       [1.10546709, 2.16912449, 1.7297237 , 1.27073759, 1.4000803 ],\n",
       "       [0.72539139, 2.11133636, 1.16068296, 1.22264554, 1.2472115 ],\n",
       "       [1.29938091, 1.34775393, 0.78047176, 1.1891105 , 1.71921835],\n",
       "       [1.39642862, 1.46929497, 0.83079191, 1.33523815, 1.80897749],\n",
       "       [0.68847453, 1.20169785, 1.01279609, 0.17815652, 1.16585901],\n",
       "       [1.1152435 , 1.01047612, 1.01026065, 1.2233595 , 0.63178415],\n",
       "       [1.62789473, 0.80657374, 1.2835322 , 1.51081654, 1.37373015],\n",
       "       [0.6448333 , 1.21838385, 0.38091691, 0.56996729, 1.23778893],\n",
       "       [1.29322814, 1.1241425 , 1.01849615, 1.40757101, 0.96243804],\n",
       "       [1.17020421, 0.55124534, 1.27125427, 1.01027029, 0.57880794],\n",
       "       [1.68551563, 0.57913708, 1.41301716, 1.46888034, 1.41344951],\n",
       "       [0.91574218, 1.2020104 , 0.51122423, 0.79003123, 1.41575975],\n",
       "       [1.26618694, 1.13969835, 0.91042812, 0.9984139 , 1.6600688 ],\n",
       "       [1.23316084, 1.21262824, 0.80365743, 1.03950953, 1.64902436],\n",
       "       [1.02755972, 1.20301568, 0.60394342, 0.8795526 , 1.49562575],\n",
       "       [0.56015671, 1.96354794, 1.04331628, 1.04913901, 1.1519963 ],\n",
       "       [1.41328581, 0.37499255, 1.25527701, 1.22065434, 1.04251586],\n",
       "       [1.4020092 , 1.3908156 , 0.87527101, 1.28609799, 1.8038822 ],\n",
       "       [1.5453115 , 1.10130538, 1.33493065, 1.1296428 , 1.8522506 ],\n",
       "       [1.55499443, 0.30416691, 1.3864148 , 1.30340887, 1.22198951],\n",
       "       [1.07030378, 0.89598237, 1.05171926, 1.12692032, 0.49205962],\n",
       "       [1.44981575, 0.51812272, 1.22668587, 1.29255336, 1.11396269],\n",
       "       [1.08342217, 0.74797367, 1.23409671, 1.00872255, 0.38035645],\n",
       "       [1.19393258, 0.69385533, 1.07063856, 1.1537634 , 0.73699881],\n",
       "       [0.40055907, 1.56588011, 0.29464258, 0.78782683, 1.1458134 ],\n",
       "       [1.24179688, 1.00922012, 1.11988719, 0.80365494, 1.59567432],\n",
       "       [1.5764355 , 1.08643342, 1.17987838, 1.58267534, 1.34084001]])"
      ]
     },
     "execution_count": 68,
     "metadata": {},
     "output_type": "execute_result"
    }
   ],
   "source": [
    "voter_cand_distances = pairwise_distances(norm_voters, norm_candidates)\n",
    "voter_cand_distances"
   ]
  },
  {
   "cell_type": "markdown",
   "metadata": {},
   "source": [
    "So, what are we looking at now? Let's put it into table form and make sense of it."
   ]
  },
  {
   "cell_type": "code",
   "execution_count": 69,
   "metadata": {},
   "outputs": [
    {
     "data": {
      "text/html": [
       "<div>\n",
       "<style scoped>\n",
       "    .dataframe tbody tr th:only-of-type {\n",
       "        vertical-align: middle;\n",
       "    }\n",
       "\n",
       "    .dataframe tbody tr th {\n",
       "        vertical-align: top;\n",
       "    }\n",
       "\n",
       "    .dataframe thead th {\n",
       "        text-align: right;\n",
       "    }\n",
       "</style>\n",
       "<table border=\"1\" class=\"dataframe\">\n",
       "  <thead>\n",
       "    <tr style=\"text-align: right;\">\n",
       "      <th></th>\n",
       "      <th>haxuju</th>\n",
       "      <th>simugole</th>\n",
       "      <th>hu</th>\n",
       "      <th>walohido</th>\n",
       "      <th>va</th>\n",
       "    </tr>\n",
       "  </thead>\n",
       "  <tbody>\n",
       "    <tr>\n",
       "      <th>qemalimo</th>\n",
       "      <td>1.676798</td>\n",
       "      <td>0.492543</td>\n",
       "      <td>1.436679</td>\n",
       "      <td>1.435453</td>\n",
       "      <td>1.391956</td>\n",
       "    </tr>\n",
       "    <tr>\n",
       "      <th>dulo</th>\n",
       "      <td>1.319097</td>\n",
       "      <td>0.277278</td>\n",
       "      <td>1.324184</td>\n",
       "      <td>1.082616</td>\n",
       "      <td>0.851630</td>\n",
       "    </tr>\n",
       "    <tr>\n",
       "      <th>rozelene</th>\n",
       "      <td>1.050785</td>\n",
       "      <td>1.455529</td>\n",
       "      <td>0.449581</td>\n",
       "      <td>1.103020</td>\n",
       "      <td>1.545412</td>\n",
       "    </tr>\n",
       "    <tr>\n",
       "      <th>coximo</th>\n",
       "      <td>1.372514</td>\n",
       "      <td>0.647311</td>\n",
       "      <td>1.137683</td>\n",
       "      <td>1.279701</td>\n",
       "      <td>1.023573</td>\n",
       "    </tr>\n",
       "    <tr>\n",
       "      <th>zikiti</th>\n",
       "      <td>1.011225</td>\n",
       "      <td>1.468318</td>\n",
       "      <td>0.402142</td>\n",
       "      <td>1.086577</td>\n",
       "      <td>1.517977</td>\n",
       "    </tr>\n",
       "  </tbody>\n",
       "</table>\n",
       "</div>"
      ],
      "text/plain": [
       "            haxuju  simugole        hu  walohido        va\n",
       "qemalimo  1.676798  0.492543  1.436679  1.435453  1.391956\n",
       "dulo      1.319097  0.277278  1.324184  1.082616  0.851630\n",
       "rozelene  1.050785  1.455529  0.449581  1.103020  1.545412\n",
       "coximo    1.372514  0.647311  1.137683  1.279701  1.023573\n",
       "zikiti    1.011225  1.468318  0.402142  1.086577  1.517977"
      ]
     },
     "execution_count": 69,
     "metadata": {},
     "output_type": "execute_result"
    }
   ],
   "source": [
    "voter_cand_df = pd.DataFrame(voter_cand_distances)\n",
    "voter_cand_df.columns = candidates.index\n",
    "voter_cand_df.index = voters.index\n",
    "voter_cand_df.head(5) # just look at top 5"
   ]
  },
  {
   "cell_type": "markdown",
   "metadata": {},
   "source": [
    "\n",
    "We're basically done! Now all we have to do is grab the \"votes\". Each voter's lowest pairwise distance candidate is the one their voting for.\n",
    "\n",
    "There's a useful `sklearn` function for this called `pairwise_distances_argmin_min`. Basically, we just plug in the same normalized values we did with `pairwise_distances`, except now we'll get the column index associated with the minimum value for each row/voter (along with the literal value)."
   ]
  },
  {
   "cell_type": "code",
   "execution_count": 70,
   "metadata": {},
   "outputs": [],
   "source": [
    "from sklearn.metrics import pairwise_distances_argmin_min"
   ]
  },
  {
   "cell_type": "code",
   "execution_count": 71,
   "metadata": {},
   "outputs": [
    {
     "data": {
      "text/plain": [
       "array([1, 1, 2, 1, 2, 2, 1, 3, 2, 4, 1, 1, 4, 0, 1, 1, 3, 1, 2, 2, 1, 4,\n",
       "       0, 3, 1, 2, 4, 1, 1, 2, 1, 4, 3, 2, 1, 4, 4, 1, 2, 2, 3, 1, 1, 1,\n",
       "       1, 2, 1, 1, 1, 3, 2, 1, 1, 2, 1, 3, 2, 1, 3, 0, 1, 1, 1, 3, 3, 4,\n",
       "       4, 2, 2, 2, 1, 1, 0, 0, 0, 2, 2, 3, 4, 1, 2, 4, 1, 1, 2, 2, 2, 2,\n",
       "       0, 1, 2, 1, 1, 4, 1, 4, 1, 2, 3, 1], dtype=int64)"
      ]
     },
     "execution_count": 71,
     "metadata": {},
     "output_type": "execute_result"
    }
   ],
   "source": [
    "votes_by_cand_index = pairwise_distances_argmin_min(norm_voters, norm_candidates)\n",
    "votes_by_cand_index[0]"
   ]
  },
  {
   "cell_type": "markdown",
   "metadata": {},
   "source": [
    "If we want to see the candidates by name instead of index, we can do that, too!"
   ]
  },
  {
   "cell_type": "code",
   "execution_count": 72,
   "metadata": {},
   "outputs": [
    {
     "data": {
      "text/plain": [
       "Index(['haxuju', 'simugole', 'hu', 'walohido', 'va'], dtype='object')"
      ]
     },
     "execution_count": 72,
     "metadata": {},
     "output_type": "execute_result"
    }
   ],
   "source": [
    "candidates.index"
   ]
  },
  {
   "cell_type": "code",
   "execution_count": 73,
   "metadata": {},
   "outputs": [
    {
     "data": {
      "text/plain": [
       "Index(['simugole', 'simugole', 'hu', 'simugole', 'hu', 'hu', 'simugole',\n",
       "       'walohido', 'hu', 'va', 'simugole', 'simugole', 'va', 'haxuju',\n",
       "       'simugole', 'simugole', 'walohido', 'simugole', 'hu', 'hu', 'simugole',\n",
       "       'va', 'haxuju', 'walohido', 'simugole', 'hu', 'va', 'simugole',\n",
       "       'simugole', 'hu', 'simugole', 'va', 'walohido', 'hu', 'simugole', 'va',\n",
       "       'va', 'simugole', 'hu', 'hu', 'walohido', 'simugole', 'simugole',\n",
       "       'simugole', 'simugole', 'hu', 'simugole', 'simugole', 'simugole',\n",
       "       'walohido', 'hu', 'simugole', 'simugole', 'hu', 'simugole', 'walohido',\n",
       "       'hu', 'simugole', 'walohido', 'haxuju', 'simugole', 'simugole',\n",
       "       'simugole', 'walohido', 'walohido', 'va', 'va', 'hu', 'hu', 'hu',\n",
       "       'simugole', 'simugole', 'haxuju', 'haxuju', 'haxuju', 'hu', 'hu',\n",
       "       'walohido', 'va', 'simugole', 'hu', 'va', 'simugole', 'simugole', 'hu',\n",
       "       'hu', 'hu', 'hu', 'haxuju', 'simugole', 'hu', 'simugole', 'simugole',\n",
       "       'va', 'simugole', 'va', 'simugole', 'hu', 'walohido', 'simugole'],\n",
       "      dtype='object')"
      ]
     },
     "execution_count": 73,
     "metadata": {},
     "output_type": "execute_result"
    }
   ],
   "source": [
    "votes = candidates.index[votes_by_cand_index[0]]\n",
    "votes"
   ]
  },
  {
   "cell_type": "markdown",
   "metadata": {},
   "source": [
    "## Plurality Voting Algorithm\n",
    "This should be easy enough...\n",
    "We'll take a list of candidates each voter has selected as their top choice. The candidate with the most votes wins."
   ]
  },
  {
   "cell_type": "code",
   "execution_count": 74,
   "metadata": {},
   "outputs": [],
   "source": [
    "def plurality_vote(votes):\n",
    "    candidates = dict()\n",
    "    max_count = 0\n",
    "    winner = None\n",
    "    for candidate in votes:\n",
    "        if candidate not in candidates:\n",
    "            candidates[candidate] = 0\n",
    "        candidates[candidate] += 1\n",
    "        if candidates[candidate] > max_count:\n",
    "            max_count = candidates[candidate]\n",
    "            winner = candidate\n",
    "    return f'🥳The winner is {winner.capitalize()}🥳'\n",
    "    # NOTE: this doesn't account for ties!"
   ]
  },
  {
   "cell_type": "code",
   "execution_count": 75,
   "metadata": {},
   "outputs": [
    {
     "data": {
      "text/plain": [
       "'🥳The winner is Simugole🥳'"
      ]
     },
     "execution_count": 75,
     "metadata": {},
     "output_type": "execute_result"
    }
   ],
   "source": [
    "plurality_vote(votes)"
   ]
  },
  {
   "cell_type": "code",
   "execution_count": 76,
   "metadata": {},
   "outputs": [
    {
     "data": {
      "image/png": "[encoded data removed]",
      "text/plain": [
       "<Figure size 432x288 with 1 Axes>"
      ]
     },
     "metadata": {
      "needs_background": "light"
     },
     "output_type": "display_data"
    }
   ],
   "source": [
    "# plotting votes\n",
    "plt.title(\"Total Votes in Plurality Voting System\")\n",
    "plt.xlabel(\"Count\")\n",
    "plt.ylabel(\"Candidates\")\n",
    "sns.countplot(y = votes, orient = 'h',  order = votes.value_counts().index);"
   ]
  },
  {
   "cell_type": "markdown",
   "metadata": {},
   "source": [
    "### How does Ranked Choice Voting Work?\n",
    "- Voters rank the candidates they want (all candidates or up to a max)\n",
    "- Once all votes are in, a round or more of selection occurs:\n",
    "    - The candidate with over 50% of votes, wins\n",
    "    - If no candidate has over 50%:\n",
    "        - The candidate with the lowest number of votes is eliminated\n",
    "        - Voters with that candidate as their top vote have their vote count to the next valid candidate they ranked\n",
    "- Rounds repeat until a winner is determined"
   ]
  },
  {
   "cell_type": "markdown",
   "metadata": {},
   "source": [
    "We've actually already done most of the work needed to get going. The only difference is, now each voter will select their top # of candidates.\n",
    "\n",
    "To simulate this as best as possible, let's also consider that each voter can vote for a max of 3 candidates, but some will vote for only 1 or 2.\n",
    "\n",
    "Intead of a single list of single votes, we'll want a nested list, which represents each voters ranked votes. All the information we need is still in the `voter_cand_distances` variable from earlier"
   ]
  },
  {
   "cell_type": "code",
   "execution_count": 77,
   "metadata": {
    "scrolled": true
   },
   "outputs": [
    {
     "data": {
      "text/plain": [
       "array([[1.67679849, 0.49254297, 1.43667882, 1.4354533 , 1.39195565],\n",
       "       [1.31909703, 0.27727845, 1.324184  , 1.08261599, 0.85163016],\n",
       "       [1.05078504, 1.45552895, 0.44958129, 1.1030202 , 1.54541243],\n",
       "       [1.37251366, 0.64731097, 1.13768342, 1.27970129, 1.02357325],\n",
       "       [1.01122492, 1.4683181 , 0.40214206, 1.08657656, 1.51797714],\n",
       "       [0.93674808, 1.21053084, 0.51772409, 0.81578299, 1.43203068],\n",
       "       [1.44056352, 0.73399675, 1.15430224, 1.35965241, 1.12942575],\n",
       "       [0.99796973, 1.02551993, 1.06183098, 0.49139244, 1.38867695],\n",
       "       [0.87929937, 1.43189139, 0.27675804, 0.97179218, 1.42150867],\n",
       "       [1.25739047, 1.89886438, 1.53424702, 1.61702439, 0.79391607],\n",
       "       [1.56143409, 0.90979181, 1.20083783, 1.50550796, 1.30459146],\n",
       "       [1.32038644, 0.27915754, 1.33686808, 1.07849404, 0.84867202],\n",
       "       [1.10303422, 0.82644912, 1.04972587, 1.12754281, 0.56545906],\n",
       "       [0.16796022, 1.4957749 , 0.77137517, 0.46043146, 1.00014908],\n",
       "       [1.51385641, 1.05918332, 1.13784696, 1.53137603, 1.26025735],\n",
       "       [1.34121814, 0.93175818, 1.0538954 , 1.36420914, 1.0143187 ],\n",
       "       [1.29298856, 1.03788868, 1.09114806, 0.90008587, 1.65025126],\n",
       "       [1.20626756, 0.47305948, 1.27547357, 1.02434574, 0.65494508],\n",
       "       [1.167524  , 1.377649  , 0.61484473, 1.12319068, 1.62316362],\n",
       "       [0.92085094, 1.45519706, 0.31027972, 1.01760825, 1.45256195],\n",
       "       [1.48127179, 0.7205838 , 1.18652676, 1.38309592, 1.18161928],\n",
       "       [1.12911913, 1.28475166, 1.51456369, 1.17390872, 0.36899228],\n",
       "       [0.39975499, 1.28204601, 0.41814131, 0.41938193, 1.10852253],\n",
       "       [1.05008675, 1.00594006, 1.04053683, 0.57357254, 1.43723406],\n",
       "       [1.46957585, 1.09072593, 1.10462137, 1.51453658, 1.20629151],\n",
       "       [1.20269582, 1.32321688, 0.68667107, 1.10625168, 1.64266861],\n",
       "       [1.12122535, 0.88282811, 1.02628392, 1.17172332, 0.62335121],\n",
       "       [1.52134919, 1.02072792, 1.14888654, 1.52137389, 1.26600512],\n",
       "       [1.30440983, 0.4677609 , 1.44388424, 1.04408278, 0.77415958],\n",
       "       [0.75878322, 1.36832651, 0.20900011, 0.83465361, 1.33413863],\n",
       "       [1.30700222, 0.51338354, 1.15551054, 1.18030296, 0.90262759],\n",
       "       [1.07953689, 0.81226718, 1.07516406, 1.09352788, 0.49178138],\n",
       "       [1.11908569, 1.00021826, 1.05475093, 0.66362832, 1.49536352],\n",
       "       [1.27264816, 1.21500455, 0.8454772 , 1.0691158 , 1.67915125],\n",
       "       [1.53803481, 0.61974935, 1.26091759, 1.38714997, 1.24185351],\n",
       "       [1.27512584, 0.9974643 , 1.01958948, 1.34299541, 0.92207262],\n",
       "       [1.01695675, 0.99963983, 1.10681633, 1.10960195, 0.30116112],\n",
       "       [1.15578877, 0.55758277, 1.21441465, 1.0233436 , 0.57774758],\n",
       "       [1.12595913, 1.20299451, 0.69903024, 0.95378118, 1.56754438],\n",
       "       [1.25431914, 1.49776187, 0.65841431, 1.26384239, 1.70202763],\n",
       "       [0.75544364, 1.11853748, 0.96849902, 0.21982924, 1.21855128],\n",
       "       [1.37510211, 0.67315652, 1.13136351, 1.29087972, 1.03084233],\n",
       "       [1.59351467, 0.44590652, 1.36949096, 1.36893978, 1.2880773 ],\n",
       "       [1.82618017, 0.46357909, 1.64202706, 1.50435999, 1.54619891],\n",
       "       [1.27283052, 0.59540456, 1.11480575, 1.1822879 , 0.86074651],\n",
       "       [0.41900489, 1.32132969, 0.32036965, 0.51762639, 1.12910351],\n",
       "       [1.46771365, 0.44335721, 1.26503677, 1.28210374, 1.1279293 ],\n",
       "       [1.6463365 , 0.24175499, 1.51285279, 1.34079471, 1.31966832],\n",
       "       [1.81746378, 0.57196834, 1.56894676, 1.5424041 , 1.55716534],\n",
       "       [1.27761943, 1.02649169, 1.10091178, 0.86976735, 1.6335289 ],\n",
       "       [0.6064195 , 1.48366168, 0.03224475, 0.83772871, 1.25152976],\n",
       "       [1.72867665, 0.29725372, 1.6053943 , 1.39474902, 1.41361824],\n",
       "       [1.49502103, 0.83258942, 1.16752574, 1.43284392, 1.21252754],\n",
       "       [1.35690572, 1.20599871, 0.95032907, 1.11924161, 1.74134955],\n",
       "       [1.67241444, 0.61648929, 1.38607019, 1.47319712, 1.40317832],\n",
       "       [1.16468998, 1.00039034, 1.09822807, 0.70391898, 1.52823818],\n",
       "       [0.90462013, 1.18622431, 0.52237747, 0.7637901 , 1.40506245],\n",
       "       [1.46533527, 0.50162976, 1.24312581, 1.29846105, 1.13263469],\n",
       "       [0.42350539, 1.27449455, 0.79581948, 0.1222867 , 1.0611603 ],\n",
       "       [0.26873701, 1.45133176, 0.35886136, 0.59463585, 1.08181895],\n",
       "       [1.41924725, 0.35998252, 1.26443193, 1.22081536, 1.04880576],\n",
       "       [1.75820869, 1.1605535 , 1.32139046, 1.72605238, 1.56216771],\n",
       "       [1.42076643, 0.26259716, 1.3049605 , 1.19375987, 1.03555473],\n",
       "       [0.59274425, 1.13863997, 0.67094113, 0.24936965, 1.16534122],\n",
       "       [0.76038016, 1.09070372, 0.64847501, 0.46131604, 1.27677708],\n",
       "       [1.20710309, 1.37234008, 1.63145492, 1.23210738, 0.52110689],\n",
       "       [1.12762096, 0.76537803, 1.0593177 , 1.12310403, 0.61061229],\n",
       "       [1.37346633, 1.49088447, 0.795562  , 1.33489433, 1.79344364],\n",
       "       [1.25804452, 1.12378664, 0.91917612, 0.97724772, 1.65051208],\n",
       "       [0.70098768, 1.52882645, 0.09761473, 0.93483148, 1.3123327 ],\n",
       "       [1.481507  , 0.23110498, 1.35374007, 1.23313664, 1.11680759],\n",
       "       [1.52113546, 0.34798137, 1.34049059, 1.29231871, 1.18515105],\n",
       "       [0.22470819, 1.51640512, 0.4169751 , 0.64569163, 1.07060428],\n",
       "       [1.10546709, 2.16912449, 1.7297237 , 1.27073759, 1.4000803 ],\n",
       "       [0.72539139, 2.11133636, 1.16068296, 1.22264554, 1.2472115 ],\n",
       "       [1.29938091, 1.34775393, 0.78047176, 1.1891105 , 1.71921835],\n",
       "       [1.39642862, 1.46929497, 0.83079191, 1.33523815, 1.80897749],\n",
       "       [0.68847453, 1.20169785, 1.01279609, 0.17815652, 1.16585901],\n",
       "       [1.1152435 , 1.01047612, 1.01026065, 1.2233595 , 0.63178415],\n",
       "       [1.62789473, 0.80657374, 1.2835322 , 1.51081654, 1.37373015],\n",
       "       [0.6448333 , 1.21838385, 0.38091691, 0.56996729, 1.23778893],\n",
       "       [1.29322814, 1.1241425 , 1.01849615, 1.40757101, 0.96243804],\n",
       "       [1.17020421, 0.55124534, 1.27125427, 1.01027029, 0.57880794],\n",
       "       [1.68551563, 0.57913708, 1.41301716, 1.46888034, 1.41344951],\n",
       "       [0.91574218, 1.2020104 , 0.51122423, 0.79003123, 1.41575975],\n",
       "       [1.26618694, 1.13969835, 0.91042812, 0.9984139 , 1.6600688 ],\n",
       "       [1.23316084, 1.21262824, 0.80365743, 1.03950953, 1.64902436],\n",
       "       [1.02755972, 1.20301568, 0.60394342, 0.8795526 , 1.49562575],\n",
       "       [0.56015671, 1.96354794, 1.04331628, 1.04913901, 1.1519963 ],\n",
       "       [1.41328581, 0.37499255, 1.25527701, 1.22065434, 1.04251586],\n",
       "       [1.4020092 , 1.3908156 , 0.87527101, 1.28609799, 1.8038822 ],\n",
       "       [1.5453115 , 1.10130538, 1.33493065, 1.1296428 , 1.8522506 ],\n",
       "       [1.55499443, 0.30416691, 1.3864148 , 1.30340887, 1.22198951],\n",
       "       [1.07030378, 0.89598237, 1.05171926, 1.12692032, 0.49205962],\n",
       "       [1.44981575, 0.51812272, 1.22668587, 1.29255336, 1.11396269],\n",
       "       [1.08342217, 0.74797367, 1.23409671, 1.00872255, 0.38035645],\n",
       "       [1.19393258, 0.69385533, 1.07063856, 1.1537634 , 0.73699881],\n",
       "       [0.40055907, 1.56588011, 0.29464258, 0.78782683, 1.1458134 ],\n",
       "       [1.24179688, 1.00922012, 1.11988719, 0.80365494, 1.59567432],\n",
       "       [1.5764355 , 1.08643342, 1.17987838, 1.58267534, 1.34084001]])"
      ]
     },
     "execution_count": 77,
     "metadata": {},
     "output_type": "execute_result"
    }
   ],
   "source": [
    "voter_cand_distances"
   ]
  },
  {
   "cell_type": "markdown",
   "metadata": {},
   "source": [
    "We can use `numpy`s `argsort` to get the indexes that would sort a given array.\n",
    "\n",
    "Let's look at the first voter."
   ]
  },
  {
   "cell_type": "code",
   "execution_count": 78,
   "metadata": {},
   "outputs": [
    {
     "data": {
      "text/plain": [
       "array([1.67679849, 0.49254297, 1.43667882, 1.4354533 , 1.39195565])"
      ]
     },
     "execution_count": 78,
     "metadata": {},
     "output_type": "execute_result"
    }
   ],
   "source": [
    "first_voter = voter_cand_distances[0]\n",
    "first_voter"
   ]
  },
  {
   "cell_type": "code",
   "execution_count": 79,
   "metadata": {},
   "outputs": [
    {
     "data": {
      "text/plain": [
       "array([1, 4, 3, 2, 0], dtype=int64)"
      ]
     },
     "execution_count": 79,
     "metadata": {},
     "output_type": "execute_result"
    }
   ],
   "source": [
    "np.argsort(first_voter)"
   ]
  },
  {
   "cell_type": "code",
   "execution_count": 80,
   "metadata": {},
   "outputs": [
    {
     "data": {
      "text/plain": [
       "array([1, 4, 3, 2, 0], dtype=int64)"
      ]
     },
     "execution_count": 80,
     "metadata": {},
     "output_type": "execute_result"
    }
   ],
   "source": [
    "first_voter_sorting_array = np.argsort(first_voter)\n",
    "first_voter_sorting_array"
   ]
  },
  {
   "cell_type": "markdown",
   "metadata": {},
   "source": [
    "### INTERPRETATION\n",
    "\n",
    "If we index the `first_voter` using the `first_voter_sorting_array` as an index...we'll get the sorted array"
   ]
  },
  {
   "cell_type": "code",
   "execution_count": 81,
   "metadata": {},
   "outputs": [
    {
     "data": {
      "text/plain": [
       "array([0.49254297, 1.39195565, 1.4354533 , 1.43667882, 1.67679849])"
      ]
     },
     "execution_count": 81,
     "metadata": {},
     "output_type": "execute_result"
    }
   ],
   "source": [
    "first_voter[first_voter_sorting_array]"
   ]
  },
  {
   "cell_type": "markdown",
   "metadata": {},
   "source": [
    "This `first_voter_sorting_array` is essentially the full candidate ranking for the voter.\n",
    "\n",
    "Shown another way..."
   ]
  },
  {
   "cell_type": "code",
   "execution_count": 82,
   "metadata": {},
   "outputs": [
    {
     "data": {
      "text/plain": [
       "Index(['simugole', 'va', 'walohido', 'hu', 'haxuju'], dtype='object')"
      ]
     },
     "execution_count": 82,
     "metadata": {},
     "output_type": "execute_result"
    }
   ],
   "source": [
    "candidates.index[first_voter_sorting_array]"
   ]
  },
  {
   "cell_type": "markdown",
   "metadata": {},
   "source": [
    "Let's randomly grab between 1 and 3 of the first elements in the `sorting_array` "
   ]
  },
  {
   "cell_type": "code",
   "execution_count": 97,
   "metadata": {},
   "outputs": [
    {
     "data": {
      "text/plain": [
       "1"
      ]
     },
     "execution_count": 97,
     "metadata": {},
     "output_type": "execute_result"
    }
   ],
   "source": [
    "# random int from 1-3 with 10%, 30%, and 60% probabilities\n",
    "np.random.choice([1,2,3],p=[.1, .3, .6])"
   ]
  },
  {
   "cell_type": "code",
   "execution_count": 108,
   "metadata": {},
   "outputs": [
    {
     "data": {
      "text/plain": [
       "Index(['simugole', 'va', 'walohido'], dtype='object')"
      ]
     },
     "execution_count": 108,
     "metadata": {},
     "output_type": "execute_result"
    }
   ],
   "source": [
    "all_first_ranked_votes = candidates.index[first_voter_sorting_array]\n",
    "\n",
    "max_vote_index = np.random.choice([1,2,3],p=[.1, .3, .6])\n",
    "\n",
    "first_ranked_votes = all_first_ranked_votes[:max_vote_index]\n",
    "first_ranked_votes"
   ]
  },
  {
   "cell_type": "markdown",
   "metadata": {},
   "source": [
    "Let's abstract this process into a single function `select_ranked_votes`\n",
    "\n",
    "The `select_ranked_votes` function will take a single row of data as an argument\n",
    "- It will ranke the candidates and return a limited list (length between 1-3)"
   ]
  },
  {
   "cell_type": "code",
   "execution_count": 111,
   "metadata": {},
   "outputs": [],
   "source": [
    "def select_ranked_votes(row):\n",
    "    sorting_array = np.argsort(row)\n",
    "    all_ranked_votes = candidates.index[sorting_array]\n",
    "    max_vote_index = np.random.choice([1,2,3],p=[.1, .3, .6])\n",
    "    return all_ranked_votes[:max_vote_index]"
   ]
  },
  {
   "cell_type": "code",
   "execution_count": 117,
   "metadata": {},
   "outputs": [
    {
     "data": {
      "text/plain": [
       "Index(['simugole', 'va', 'walohido'], dtype='object')"
      ]
     },
     "execution_count": 117,
     "metadata": {},
     "output_type": "execute_result"
    }
   ],
   "source": [
    "select_ranked_votes(first_voter)"
   ]
  },
  {
   "cell_type": "markdown",
   "metadata": {},
   "source": [
    "Let's apply the same logic for all voters\n"
   ]
  },
  {
   "cell_type": "code",
   "execution_count": 121,
   "metadata": {},
   "outputs": [
    {
     "data": {
      "text/plain": [
       "[['simugole', 'va'],\n",
       " ['simugole', 'va', 'walohido'],\n",
       " ['hu', 'haxuju', 'walohido'],\n",
       " ['simugole', 'va'],\n",
       " ['hu', 'haxuju'],\n",
       " ['hu', 'walohido', 'haxuju'],\n",
       " ['simugole', 'va'],\n",
       " ['walohido', 'haxuju', 'simugole'],\n",
       " ['hu', 'haxuju', 'walohido'],\n",
       " ['va', 'haxuju', 'hu']]"
      ]
     },
     "execution_count": 121,
     "metadata": {},
     "output_type": "execute_result"
    }
   ],
   "source": [
    "# NOTE: use of np.array.tolist()\n",
    "ranked_choice_votes = [select_ranked_votes(row).tolist() for row in voter_cand_distances]\n",
    "ranked_choice_votes[:10]"
   ]
  },
  {
   "cell_type": "markdown",
   "metadata": {},
   "source": [
    "### Ranked Choice Voting Algorithm\n",
    "\n",
    "Count votes from each voter's first choice.\n",
    "- If there is a candidate with over 50% of the vote, that candidate wins!\n",
    "- Otherwise, eliminate the candidate with the least votes, and voters with that removed candidate have their vote counted for the next valid ranked candidate\n",
    "- Repeat until a winner is found"
   ]
  },
  {
   "cell_type": "code",
   "execution_count": 124,
   "metadata": {},
   "outputs": [],
   "source": [
    "import math\n",
    "from copy import deepcopy\n",
    "\n",
    "def ranked_choice_vote(ranked_votes, verbose = False):\n",
    "    ranked_votes = deepcopy(ranked_votes)\n",
    "    eliminated = set()\n",
    "    candidates = dict()\n",
    "    result_history = []\n",
    "\n",
    "    winning_count = math.ceil(len(ranked_votes) / 2)\n",
    "\n",
    "    def winner_found():\n",
    "        if len(candidates) == 1:\n",
    "            return True\n",
    "        return any([count > winning_count for count in candidates.values()])\n",
    "    \n",
    "    round_i = 0\n",
    "    while not winner_found():\n",
    "        # reset round\n",
    "        round_i += 1\n",
    "        if verbose:\n",
    "            print(f'Starting Round {round_i} (Winning Count = {winning_count})')\n",
    "        candidates = dict()\n",
    "\n",
    "        # start round\n",
    "        for ranked_vote in ranked_votes:\n",
    "            while len(ranked_vote) and ranked_vote[0] in eliminated:\n",
    "                ranked_vote.pop(0)\n",
    "\n",
    "            if not len(ranked_vote):\n",
    "                continue # eliminated all candidates from voter\n",
    "            \n",
    "            top_pick = ranked_vote[0]\n",
    "            if top_pick not in candidates:\n",
    "                candidates[top_pick] = 0\n",
    "            candidates[top_pick] += 1\n",
    "        if verbose:\n",
    "            print(\"Candidate Counts:\")\n",
    "            print(candidates)\n",
    "\n",
    "        result_history.append(candidates)\n",
    "        # if winner not found\n",
    "        if not winner_found():\n",
    "            # eliminate last candidate\n",
    "            last_candidate = None\n",
    "            lowest_count = np.inf # arbitrarily large number\n",
    "            for candidate, count in candidates.items():\n",
    "                if count < lowest_count:\n",
    "                    lowest_count = count\n",
    "                    last_candidate = candidate\n",
    "            eliminated.add(last_candidate)\n",
    "            if verbose:\n",
    "                print(f\"Eliminated Candidate: {last_candidate}\")\n",
    "                print(\"==========================\")\n",
    "        \n",
    "    # return winner\n",
    "    top_candidate = None\n",
    "    max_count = -np.inf # arbitrarily small number\n",
    "    for candidate, count in candidates.items():\n",
    "        if count > max_count:\n",
    "            max_count = count\n",
    "            top_candidate = candidate\n",
    "    return top_candidate, result_history\n",
    "    # DOES NOT ACCOUNT FOR ELIMINATION TIES - https://en.wikipedia.org/wiki/Instant-runoff_voting"
   ]
  },
  {
   "cell_type": "code",
   "execution_count": 126,
   "metadata": {},
   "outputs": [
    {
     "name": "stdout",
     "output_type": "stream",
     "text": [
      "Starting Round 1 (Winning Count = 50)\n",
      "Candidate Counts:\n",
      "{'simugole': 41, 'hu': 27, 'walohido': 12, 'va': 13, 'haxuju': 7}\n",
      "Eliminated Candidate: haxuju\n",
      "==========================\n",
      "Starting Round 2 (Winning Count = 50)\n",
      "Candidate Counts:\n",
      "{'simugole': 41, 'hu': 30, 'walohido': 13, 'va': 13}\n",
      "Eliminated Candidate: walohido\n",
      "==========================\n",
      "Starting Round 3 (Winning Count = 50)\n",
      "Candidate Counts:\n",
      "{'simugole': 48, 'hu': 34, 'va': 13}\n",
      "Eliminated Candidate: va\n",
      "==========================\n",
      "Starting Round 4 (Winning Count = 50)\n",
      "Candidate Counts:\n",
      "{'simugole': 56, 'hu': 37}\n"
     ]
    },
    {
     "data": {
      "text/plain": [
       "('simugole',\n",
       " [{'simugole': 41, 'hu': 27, 'walohido': 12, 'va': 13, 'haxuju': 7},\n",
       "  {'simugole': 41, 'hu': 30, 'walohido': 13, 'va': 13},\n",
       "  {'simugole': 48, 'hu': 34, 'va': 13},\n",
       "  {'simugole': 56, 'hu': 37}])"
      ]
     },
     "execution_count": 126,
     "metadata": {},
     "output_type": "execute_result"
    }
   ],
   "source": [
    "output = ranked_choice_vote(ranked_choice_votes, verbose = True)\n",
    "output"
   ]
  },
  {
   "cell_type": "markdown",
   "metadata": {},
   "source": [
    "## Visualizations"
   ]
  },
  {
   "cell_type": "code",
   "execution_count": 131,
   "metadata": {},
   "outputs": [
    {
     "data": {
      "image/png": "[encoded data removed]",
      "text/plain": [
       "<Figure size 1008x432 with 4 Axes>"
      ]
     },
     "metadata": {
      "needs_background": "light"
     },
     "output_type": "display_data"
    }
   ],
   "source": [
    "data_list = output[1]\n",
    "fig, axes = plt.subplots(figsize = (14,6), nrows = math.ceil(len(data_list) / 3), ncols = 3)\n",
    "plt.subplots_adjust(hspace = 0.5, wspace = 0.4)\n",
    "\n",
    "# add title to entire figure\n",
    "# NOTE: y is percentage of figure height for placement\n",
    "fig.suptitle(\"Ranked Choice Voting by Round\", fontsize = 20, y = 1.01)\n",
    "\n",
    "axes = axes.flatten()\n",
    "for i, data_dict in enumerate(data_list):\n",
    "    ser_data = pd.Series(data_dict)\n",
    "    ax = axes[i]\n",
    "    ax.set_title(f'Round # {i + 1}')\n",
    "    ax.set_ylabel('Candidates')\n",
    "    ax.set_xlabel('Votes')\n",
    "    sns.barplot(ax = ax, y = ser_data.index.map(str.capitalize), x = ser_data, orient='h')\n",
    "\n",
    "# hide unused plots: if `i` is not fully used, we can ignore those axes\n",
    "while i < len(axes) - 1:\n",
    "    i += 1 # iterate i\n",
    "    ax = axes[i] # accessing the subplot\n",
    "    fig.delaxes(ax) # delete ax from figure\n",
    "    "
   ]
  },
  {
   "cell_type": "code",
   "execution_count": 132,
   "metadata": {},
   "outputs": [
    {
     "data": {
      "text/html": [
       "<div>\n",
       "<style scoped>\n",
       "    .dataframe tbody tr th:only-of-type {\n",
       "        vertical-align: middle;\n",
       "    }\n",
       "\n",
       "    .dataframe tbody tr th {\n",
       "        vertical-align: top;\n",
       "    }\n",
       "\n",
       "    .dataframe thead th {\n",
       "        text-align: right;\n",
       "    }\n",
       "</style>\n",
       "<table border=\"1\" class=\"dataframe\">\n",
       "  <thead>\n",
       "    <tr style=\"text-align: right;\">\n",
       "      <th></th>\n",
       "      <th>love_of_cats_%</th>\n",
       "      <th>lower_taxes</th>\n",
       "      <th>income</th>\n",
       "    </tr>\n",
       "  </thead>\n",
       "  <tbody>\n",
       "    <tr>\n",
       "      <th>haxuju</th>\n",
       "      <td>0.619774</td>\n",
       "      <td>0</td>\n",
       "      <td>137765</td>\n",
       "    </tr>\n",
       "    <tr>\n",
       "      <th>simugole</th>\n",
       "      <td>0.055576</td>\n",
       "      <td>1</td>\n",
       "      <td>57183</td>\n",
       "    </tr>\n",
       "    <tr>\n",
       "      <th>hu</th>\n",
       "      <td>0.907827</td>\n",
       "      <td>0</td>\n",
       "      <td>91733</td>\n",
       "    </tr>\n",
       "    <tr>\n",
       "      <th>walohido</th>\n",
       "      <td>0.226756</td>\n",
       "      <td>0</td>\n",
       "      <td>113542</td>\n",
       "    </tr>\n",
       "    <tr>\n",
       "      <th>va</th>\n",
       "      <td>0.499962</td>\n",
       "      <td>1</td>\n",
       "      <td>144378</td>\n",
       "    </tr>\n",
       "  </tbody>\n",
       "</table>\n",
       "</div>"
      ],
      "text/plain": [
       "          love_of_cats_%  lower_taxes  income\n",
       "haxuju          0.619774            0  137765\n",
       "simugole        0.055576            1   57183\n",
       "hu              0.907827            0   91733\n",
       "walohido        0.226756            0  113542\n",
       "va              0.499962            1  144378"
      ]
     },
     "execution_count": 132,
     "metadata": {},
     "output_type": "execute_result"
    }
   ],
   "source": [
    "candidates"
   ]
  },
  {
   "cell_type": "code",
   "execution_count": 134,
   "metadata": {},
   "outputs": [
    {
     "data": {
      "text/html": [
       "<div>\n",
       "<style scoped>\n",
       "    .dataframe tbody tr th:only-of-type {\n",
       "        vertical-align: middle;\n",
       "    }\n",
       "\n",
       "    .dataframe tbody tr th {\n",
       "        vertical-align: top;\n",
       "    }\n",
       "\n",
       "    .dataframe thead th {\n",
       "        text-align: right;\n",
       "    }\n",
       "</style>\n",
       "<table border=\"1\" class=\"dataframe\">\n",
       "  <thead>\n",
       "    <tr style=\"text-align: right;\">\n",
       "      <th></th>\n",
       "      <th>love_of_cats_%</th>\n",
       "      <th>lower_taxes</th>\n",
       "      <th>income</th>\n",
       "    </tr>\n",
       "  </thead>\n",
       "  <tbody>\n",
       "    <tr>\n",
       "      <th>count</th>\n",
       "      <td>100.000000</td>\n",
       "      <td>100.000000</td>\n",
       "      <td>100.000000</td>\n",
       "    </tr>\n",
       "    <tr>\n",
       "      <th>mean</th>\n",
       "      <td>0.536713</td>\n",
       "      <td>0.530000</td>\n",
       "      <td>68921.030000</td>\n",
       "    </tr>\n",
       "    <tr>\n",
       "      <th>std</th>\n",
       "      <td>0.298580</td>\n",
       "      <td>0.501614</td>\n",
       "      <td>43501.867868</td>\n",
       "    </tr>\n",
       "    <tr>\n",
       "      <th>min</th>\n",
       "      <td>0.013094</td>\n",
       "      <td>0.000000</td>\n",
       "      <td>11162.000000</td>\n",
       "    </tr>\n",
       "    <tr>\n",
       "      <th>25%</th>\n",
       "      <td>0.291426</td>\n",
       "      <td>0.000000</td>\n",
       "      <td>37225.500000</td>\n",
       "    </tr>\n",
       "    <tr>\n",
       "      <th>50%</th>\n",
       "      <td>0.582922</td>\n",
       "      <td>1.000000</td>\n",
       "      <td>56526.500000</td>\n",
       "    </tr>\n",
       "    <tr>\n",
       "      <th>75%</th>\n",
       "      <td>0.783032</td>\n",
       "      <td>1.000000</td>\n",
       "      <td>94681.000000</td>\n",
       "    </tr>\n",
       "    <tr>\n",
       "      <th>max</th>\n",
       "      <td>0.993182</td>\n",
       "      <td>1.000000</td>\n",
       "      <td>224322.000000</td>\n",
       "    </tr>\n",
       "  </tbody>\n",
       "</table>\n",
       "</div>"
      ],
      "text/plain": [
       "       love_of_cats_%  lower_taxes         income\n",
       "count      100.000000   100.000000     100.000000\n",
       "mean         0.536713     0.530000   68921.030000\n",
       "std          0.298580     0.501614   43501.867868\n",
       "min          0.013094     0.000000   11162.000000\n",
       "25%          0.291426     0.000000   37225.500000\n",
       "50%          0.582922     1.000000   56526.500000\n",
       "75%          0.783032     1.000000   94681.000000\n",
       "max          0.993182     1.000000  224322.000000"
      ]
     },
     "execution_count": 134,
     "metadata": {},
     "output_type": "execute_result"
    }
   ],
   "source": [
    "voters.describe()"
   ]
  },
  {
   "cell_type": "markdown",
   "metadata": {},
   "source": [
    "## Next Steps:\n",
    "- Alter number of candidates\n",
    "- Add more dimensions\n",
    "- Use different distributions for dimensions (Poisson, Beta, Normal, etc.)\n",
    "- Visualizations!"
   ]
  }
 ],
 "metadata": {
  "kernelspec": {
   "display_name": "Python 3",
   "language": "python",
   "name": "python3"
  },
  "language_info": {
   "codemirror_mode": {
    "name": "ipython",
    "version": 3
   },
   "file_extension": ".py",
   "mimetype": "text/x-python",
   "name": "python",
   "nbconvert_exporter": "python",
   "pygments_lexer": "ipython3",
   "version": "3.8.5"
  }
 },
 "nbformat": 4,
 "nbformat_minor": 4
}
